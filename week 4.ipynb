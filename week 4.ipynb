{
    "cells": [
        {
            "cell_type": "markdown",
            "metadata": {
                "collapsed": true
            },
            "source": "<h1>Business Problem</h1>"
        },
        {
            "cell_type": "markdown",
            "metadata": {},
            "source": "Bengaluru is home for IT companies mainly.  Also along with IT companies, Bengaluru is also a major contributer to economy. Since a lot of people migrate to this place, its difficult for people to find apartments on their own without knowing the neighbourhood. Every have their own choice for locality. Some want a lot of restuarants near their locality. Like people who don't know to cook require restuarants nearby. \n\nChoosing a suitable locality depends on varied factors including age and family status. In this project, we aim to characterize Bengaluru's neighborhoods based on the types of businesses and amenities that are situated in those neighborhoods. We will then use this data to perform K-means clustering on the locality and come up with two useful widgets that identify similar neighborhoods with price of the apartment which we have as a part of dataset.\n\nThis analysis will be especially useful for non-local workers who have migrated and who are trying to find a home in the city. It will also be useful for local Bengaluru residents who, despite their familiarity with the city, can still benefit from the data."
        },
        {
            "cell_type": "markdown",
            "metadata": {},
            "source": "<h1></h1>"
        },
        {
            "cell_type": "markdown",
            "metadata": {},
            "source": "<h1>Data used for analysis</h1>"
        },
        {
            "attachments": {},
            "cell_type": "markdown",
            "metadata": {},
            "source": "We will use data from Kaggle which was earlier used for prediction of prices in Bengaluru. This dataset has the Type of area,availability,location,size(1/2/3 BHK),society name, total square foot of that apartment,number of bathrooms,number of balcony,price of that for 400 neighborhoods located within Bengaluru. We choose only two columns(location and price). We will append this data with the coordinates of each of these neighborhoods that we retrieved using the Python GeoPy module."
        },
        {
            "cell_type": "markdown",
            "metadata": {},
            "source": "In addition to the above data, we will use data from Foursquare API which is a local search-and-discovery service that provides recommendations of places to go near a user\u2019s current location. We will utilize the Foursquare API to collect information on the venues within each neighborhood in order to characterize and profile each neighborhood. This neighborhood characterization can be achieved in a multitude of ways depending on the project goal and availability of data. For this project, we will characterize each neighborhood based on the entertainment, food, and shopping options located in that neighborhood. We made this choice because the intended target of this project is for people who want to buy apartments in Bengaluru. \n"
        }
    ],
    "metadata": {
        "kernelspec": {
            "display_name": "Python 3.6",
            "language": "python",
            "name": "python3"
        },
        "language_info": {
            "codemirror_mode": {
                "name": "ipython",
                "version": 3
            },
            "file_extension": ".py",
            "mimetype": "text/x-python",
            "name": "python",
            "nbconvert_exporter": "python",
            "pygments_lexer": "ipython3",
            "version": "3.6.9"
        }
    },
    "nbformat": 4,
    "nbformat_minor": 1
}